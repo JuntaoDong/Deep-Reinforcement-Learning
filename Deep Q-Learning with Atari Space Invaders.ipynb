{
 "cells": [
  {
   "cell_type": "markdown",
   "metadata": {},
   "source": [
    "### Import packages"
   ]
  },
  {
   "cell_type": "code",
   "execution_count": 1,
   "metadata": {},
   "outputs": [
    {
     "name": "stderr",
     "output_type": "stream",
     "text": [
      "C:\\Users\\junta\\Anaconda2\\envs\\py3\\lib\\site-packages\\h5py\\__init__.py:34: FutureWarning: Conversion of the second argument of issubdtype from `float` to `np.floating` is deprecated. In future, it will be treated as `np.float64 == np.dtype(float).type`.\n",
      "  from ._conv import register_converters as _register_converters\n"
     ]
    }
   ],
   "source": [
    "import tensorflow as tf\n",
    "import numpy as np\n",
    "import retro                           # Retro Games in Gym\n",
    "\n",
    "from skimage import transform\n",
    "from skimage.color import rgb2gray\n",
    "\n",
    "import matplotlib.pyplot as plt\n",
    "from collections import deque\n",
    "import random\n",
    "import warnings\n",
    "warnings.filterwarnings('ignore')"
   ]
  },
  {
   "cell_type": "markdown",
   "metadata": {},
   "source": [
    "### Create environment"
   ]
  },
  {
   "cell_type": "code",
   "execution_count": 2,
   "metadata": {},
   "outputs": [
    {
     "name": "stdout",
     "output_type": "stream",
     "text": [
      "The state size of the frame is: Box(210, 160, 3)\n",
      "The action size is: 8\n",
      "[[1 0 0 0 0 0 0 0]\n",
      " [0 1 0 0 0 0 0 0]\n",
      " [0 0 1 0 0 0 0 0]\n",
      " [0 0 0 1 0 0 0 0]\n",
      " [0 0 0 0 1 0 0 0]\n",
      " [0 0 0 0 0 1 0 0]\n",
      " [0 0 0 0 0 0 1 0]\n",
      " [0 0 0 0 0 0 0 1]]\n"
     ]
    }
   ],
   "source": [
    "\"\"\"\n",
    "Before create my environment, I have to import the game into gym.retro since the game roms are not included.\n",
    "Thanks to the contribution from Thomas Simonini and Ancheng Deng, import the games by following the procudures below.\n",
    "\n",
    "1. Download zip file from http://www.atarimania.com/rom_collection_archive_atari_2600_roms.html\n",
    "2. Unzip Roms.rar, there are two zipped files inside and continuely unzip ROMS.rar\n",
    "3. Search 'Space Invaders', copy all the related files (5 in total) and paste them into a newly created folder\n",
    "4. Open prompt and change the directory to the newly created folder\n",
    "5. put \"python -m retro.import .\" in the command line and run (don't forget the point after 'import')\n",
    "\n",
    "There you go, then we can continue create the game environment for the DQ-Learning\n",
    "\"\"\"\n",
    "\n",
    "env = retro.make(game='SpaceInvaders-Atari2600')\n",
    "\n",
    "print(\"The state size of the frame is:\", env.observation_space)\n",
    "print(\"The action size is:\", env.action_space.n)\n",
    "\n",
    "possible_actions = np.array(np.identity(env.action_space.n, dtype=int).tolist())\n",
    "print(possible_actions)"
   ]
  },
  {
   "cell_type": "markdown",
   "metadata": {},
   "source": [
    "### Define the preprocessing functions"
   ]
  },
  {
   "cell_type": "code",
   "execution_count": null,
   "metadata": {
    "collapsed": true
   },
   "outputs": [],
   "source": []
  }
 ],
 "metadata": {
  "kernelspec": {
   "display_name": "Python 3",
   "language": "python",
   "name": "python3"
  },
  "language_info": {
   "codemirror_mode": {
    "name": "ipython",
    "version": 3
   },
   "file_extension": ".py",
   "mimetype": "text/x-python",
   "name": "python",
   "nbconvert_exporter": "python",
   "pygments_lexer": "ipython3",
   "version": "3.6.3"
  }
 },
 "nbformat": 4,
 "nbformat_minor": 2
}
